{
 "cells": [
  {
   "cell_type": "code",
   "execution_count": 1,
   "metadata": {},
   "outputs": [],
   "source": [
    "import pandas as pd\n",
    "import numpy as np\n",
    "from sklearn.preprocessing import StandardScaler\n",
    "from sklearn.model_selection import train_test_split\n",
    "from sklearn import metrics"
   ]
  },
  {
   "cell_type": "markdown",
   "metadata": {},
   "source": [
    "# Data preprocessing"
   ]
  },
  {
   "cell_type": "code",
   "execution_count": 2,
   "metadata": {},
   "outputs": [],
   "source": [
    "# loading data from csv file\n",
    "data_org = pd.read_csv('new_Base_CDM_balanced_V2.csv', sep=';')"
   ]
  },
  {
   "cell_type": "code",
   "execution_count": 3,
   "metadata": {},
   "outputs": [
    {
     "data": {
      "text/html": [
       "<div>\n",
       "<style scoped>\n",
       "    .dataframe tbody tr th:only-of-type {\n",
       "        vertical-align: middle;\n",
       "    }\n",
       "\n",
       "    .dataframe tbody tr th {\n",
       "        vertical-align: top;\n",
       "    }\n",
       "\n",
       "    .dataframe thead th {\n",
       "        text-align: right;\n",
       "    }\n",
       "</style>\n",
       "<table border=\"1\" class=\"dataframe\">\n",
       "  <thead>\n",
       "    <tr style=\"text-align: right;\">\n",
       "      <th></th>\n",
       "      <th>Y</th>\n",
       "      <th>X1</th>\n",
       "      <th>X2</th>\n",
       "      <th>X3</th>\n",
       "      <th>X4</th>\n",
       "      <th>X5</th>\n",
       "      <th>X6</th>\n",
       "      <th>X7</th>\n",
       "    </tr>\n",
       "  </thead>\n",
       "  <tbody>\n",
       "    <tr>\n",
       "      <th>0</th>\n",
       "      <td>No_Displ</td>\n",
       "      <td>2.0</td>\n",
       "      <td>20.20</td>\n",
       "      <td>47400</td>\n",
       "      <td>36</td>\n",
       "      <td>CORA</td>\n",
       "      <td>72.0</td>\n",
       "      <td>No_Feat</td>\n",
       "    </tr>\n",
       "    <tr>\n",
       "      <th>1</th>\n",
       "      <td>No_Displ</td>\n",
       "      <td>2.0</td>\n",
       "      <td>11.90</td>\n",
       "      <td>62000</td>\n",
       "      <td>24</td>\n",
       "      <td>LECLERC</td>\n",
       "      <td>48.0</td>\n",
       "      <td>No_Feat</td>\n",
       "    </tr>\n",
       "    <tr>\n",
       "      <th>2</th>\n",
       "      <td>No_Displ</td>\n",
       "      <td>8.0</td>\n",
       "      <td>29.52</td>\n",
       "      <td>60661</td>\n",
       "      <td>60</td>\n",
       "      <td>AUCHAN</td>\n",
       "      <td>480.0</td>\n",
       "      <td>No_Feat</td>\n",
       "    </tr>\n",
       "    <tr>\n",
       "      <th>3</th>\n",
       "      <td>No_Displ</td>\n",
       "      <td>2.0</td>\n",
       "      <td>16.20</td>\n",
       "      <td>59677</td>\n",
       "      <td>19</td>\n",
       "      <td>CARREFOUR</td>\n",
       "      <td>38.0</td>\n",
       "      <td>No_Feat</td>\n",
       "    </tr>\n",
       "    <tr>\n",
       "      <th>4</th>\n",
       "      <td>No_Displ</td>\n",
       "      <td>5.0</td>\n",
       "      <td>62.10</td>\n",
       "      <td>142602</td>\n",
       "      <td>50</td>\n",
       "      <td>CORA</td>\n",
       "      <td>250.0</td>\n",
       "      <td>No_Feat</td>\n",
       "    </tr>\n",
       "    <tr>\n",
       "      <th>...</th>\n",
       "      <td>...</td>\n",
       "      <td>...</td>\n",
       "      <td>...</td>\n",
       "      <td>...</td>\n",
       "      <td>...</td>\n",
       "      <td>...</td>\n",
       "      <td>...</td>\n",
       "      <td>...</td>\n",
       "    </tr>\n",
       "    <tr>\n",
       "      <th>25777</th>\n",
       "      <td>Displ</td>\n",
       "      <td>1.0</td>\n",
       "      <td>10.70</td>\n",
       "      <td>4033</td>\n",
       "      <td>40</td>\n",
       "      <td>CARREFOUR MARKET</td>\n",
       "      <td>40.0</td>\n",
       "      <td>No_Feat</td>\n",
       "    </tr>\n",
       "    <tr>\n",
       "      <th>25778</th>\n",
       "      <td>Displ</td>\n",
       "      <td>5.0</td>\n",
       "      <td>34.45</td>\n",
       "      <td>4033</td>\n",
       "      <td>35</td>\n",
       "      <td>CARREFOUR MARKET</td>\n",
       "      <td>175.0</td>\n",
       "      <td>No_Feat</td>\n",
       "    </tr>\n",
       "    <tr>\n",
       "      <th>25779</th>\n",
       "      <td>Displ</td>\n",
       "      <td>12.0</td>\n",
       "      <td>81.72</td>\n",
       "      <td>4033</td>\n",
       "      <td>35</td>\n",
       "      <td>CARREFOUR MARKET</td>\n",
       "      <td>420.0</td>\n",
       "      <td>No_Feat</td>\n",
       "    </tr>\n",
       "    <tr>\n",
       "      <th>25780</th>\n",
       "      <td>Displ</td>\n",
       "      <td>5.0</td>\n",
       "      <td>29.75</td>\n",
       "      <td>4033</td>\n",
       "      <td>24</td>\n",
       "      <td>CARREFOUR MARKET</td>\n",
       "      <td>120.0</td>\n",
       "      <td>No_Feat</td>\n",
       "    </tr>\n",
       "    <tr>\n",
       "      <th>25781</th>\n",
       "      <td>Displ</td>\n",
       "      <td>5.0</td>\n",
       "      <td>52.24</td>\n",
       "      <td>4033</td>\n",
       "      <td>40</td>\n",
       "      <td>CARREFOUR MARKET</td>\n",
       "      <td>200.0</td>\n",
       "      <td>No_Feat</td>\n",
       "    </tr>\n",
       "  </tbody>\n",
       "</table>\n",
       "<p>25782 rows × 8 columns</p>\n",
       "</div>"
      ],
      "text/plain": [
       "              Y    X1     X2      X3  X4                X5     X6       X7\n",
       "0      No_Displ   2.0  20.20   47400  36              CORA   72.0  No_Feat\n",
       "1      No_Displ   2.0  11.90   62000  24           LECLERC   48.0  No_Feat\n",
       "2      No_Displ   8.0  29.52   60661  60            AUCHAN  480.0  No_Feat\n",
       "3      No_Displ   2.0  16.20   59677  19         CARREFOUR   38.0  No_Feat\n",
       "4      No_Displ   5.0  62.10  142602  50              CORA  250.0  No_Feat\n",
       "...         ...   ...    ...     ...  ..               ...    ...      ...\n",
       "25777     Displ   1.0  10.70    4033  40  CARREFOUR MARKET   40.0  No_Feat\n",
       "25778     Displ   5.0  34.45    4033  35  CARREFOUR MARKET  175.0  No_Feat\n",
       "25779     Displ  12.0  81.72    4033  35  CARREFOUR MARKET  420.0  No_Feat\n",
       "25780     Displ   5.0  29.75    4033  24  CARREFOUR MARKET  120.0  No_Feat\n",
       "25781     Displ   5.0  52.24    4033  40  CARREFOUR MARKET  200.0  No_Feat\n",
       "\n",
       "[25782 rows x 8 columns]"
      ]
     },
     "execution_count": 3,
     "metadata": {},
     "output_type": "execute_result"
    }
   ],
   "source": [
    "\n",
    "data_org"
   ]
  },
  {
   "cell_type": "code",
   "execution_count": 4,
   "metadata": {},
   "outputs": [
    {
     "data": {
      "text/plain": [
       "Y      object\n",
       "X1    float64\n",
       "X2    float64\n",
       "X3      int64\n",
       "X4      int64\n",
       "X5     object\n",
       "X6    float64\n",
       "X7     object\n",
       "dtype: object"
      ]
     },
     "execution_count": 4,
     "metadata": {},
     "output_type": "execute_result"
    }
   ],
   "source": [
    "# type of columns\n",
    "data_org.dtypes"
   ]
  },
  {
   "cell_type": "code",
   "execution_count": 5,
   "metadata": {},
   "outputs": [
    {
     "data": {
      "text/plain": [
       "Y     0\n",
       "X1    0\n",
       "X2    0\n",
       "X3    0\n",
       "X4    0\n",
       "X5    0\n",
       "X6    0\n",
       "X7    0\n",
       "dtype: int64"
      ]
     },
     "execution_count": 5,
     "metadata": {},
     "output_type": "execute_result"
    }
   ],
   "source": [
    "# looking for missing data\n",
    "# aswe can see there is no missing data\n",
    "data_org.isnull().sum()"
   ]
  },
  {
   "cell_type": "code",
   "execution_count": 6,
   "metadata": {},
   "outputs": [
    {
     "data": {
      "text/plain": [
       "No_Displ    13000\n",
       "Displ       12782\n",
       "Name: Y, dtype: int64"
      ]
     },
     "execution_count": 6,
     "metadata": {},
     "output_type": "execute_result"
    }
   ],
   "source": [
    "data_org.Y.value_counts()"
   ]
  },
  {
   "cell_type": "code",
   "execution_count": 7,
   "metadata": {},
   "outputs": [
    {
     "data": {
      "text/html": [
       "<div>\n",
       "<style scoped>\n",
       "    .dataframe tbody tr th:only-of-type {\n",
       "        vertical-align: middle;\n",
       "    }\n",
       "\n",
       "    .dataframe tbody tr th {\n",
       "        vertical-align: top;\n",
       "    }\n",
       "\n",
       "    .dataframe thead th {\n",
       "        text-align: right;\n",
       "    }\n",
       "</style>\n",
       "<table border=\"1\" class=\"dataframe\">\n",
       "  <thead>\n",
       "    <tr style=\"text-align: right;\">\n",
       "      <th></th>\n",
       "      <th>X1</th>\n",
       "      <th>X2</th>\n",
       "      <th>X3</th>\n",
       "      <th>X4</th>\n",
       "      <th>X6</th>\n",
       "    </tr>\n",
       "  </thead>\n",
       "  <tbody>\n",
       "    <tr>\n",
       "      <th>count</th>\n",
       "      <td>25782.000000</td>\n",
       "      <td>25782.000000</td>\n",
       "      <td>25782.000000</td>\n",
       "      <td>25782.000000</td>\n",
       "      <td>25782.000000</td>\n",
       "    </tr>\n",
       "    <tr>\n",
       "      <th>mean</th>\n",
       "      <td>13.767151</td>\n",
       "      <td>130.888312</td>\n",
       "      <td>64641.184431</td>\n",
       "      <td>37.646614</td>\n",
       "      <td>587.855260</td>\n",
       "    </tr>\n",
       "    <tr>\n",
       "      <th>std</th>\n",
       "      <td>38.203406</td>\n",
       "      <td>372.649805</td>\n",
       "      <td>54924.645702</td>\n",
       "      <td>23.498949</td>\n",
       "      <td>1821.338396</td>\n",
       "    </tr>\n",
       "    <tr>\n",
       "      <th>min</th>\n",
       "      <td>1.000000</td>\n",
       "      <td>1.110000</td>\n",
       "      <td>1693.000000</td>\n",
       "      <td>1.000000</td>\n",
       "      <td>1.000000</td>\n",
       "    </tr>\n",
       "    <tr>\n",
       "      <th>25%</th>\n",
       "      <td>2.000000</td>\n",
       "      <td>13.360000</td>\n",
       "      <td>21394.000000</td>\n",
       "      <td>25.000000</td>\n",
       "      <td>50.000000</td>\n",
       "    </tr>\n",
       "    <tr>\n",
       "      <th>50%</th>\n",
       "      <td>4.000000</td>\n",
       "      <td>31.050000</td>\n",
       "      <td>51522.000000</td>\n",
       "      <td>32.000000</td>\n",
       "      <td>120.000000</td>\n",
       "    </tr>\n",
       "    <tr>\n",
       "      <th>75%</th>\n",
       "      <td>11.000000</td>\n",
       "      <td>87.450000</td>\n",
       "      <td>91000.000000</td>\n",
       "      <td>40.000000</td>\n",
       "      <td>380.000000</td>\n",
       "    </tr>\n",
       "    <tr>\n",
       "      <th>max</th>\n",
       "      <td>1475.000000</td>\n",
       "      <td>13589.220000</td>\n",
       "      <td>284844.000000</td>\n",
       "      <td>198.000000</td>\n",
       "      <td>48816.000000</td>\n",
       "    </tr>\n",
       "  </tbody>\n",
       "</table>\n",
       "</div>"
      ],
      "text/plain": [
       "                 X1            X2             X3            X4            X6\n",
       "count  25782.000000  25782.000000   25782.000000  25782.000000  25782.000000\n",
       "mean      13.767151    130.888312   64641.184431     37.646614    587.855260\n",
       "std       38.203406    372.649805   54924.645702     23.498949   1821.338396\n",
       "min        1.000000      1.110000    1693.000000      1.000000      1.000000\n",
       "25%        2.000000     13.360000   21394.000000     25.000000     50.000000\n",
       "50%        4.000000     31.050000   51522.000000     32.000000    120.000000\n",
       "75%       11.000000     87.450000   91000.000000     40.000000    380.000000\n",
       "max     1475.000000  13589.220000  284844.000000    198.000000  48816.000000"
      ]
     },
     "execution_count": 7,
     "metadata": {},
     "output_type": "execute_result"
    }
   ],
   "source": [
    "data_org.describe()"
   ]
  },
  {
   "cell_type": "code",
   "execution_count": 8,
   "metadata": {},
   "outputs": [],
   "source": [
    "# Label encoding for Y , X5 and X7\n",
    "from sklearn.preprocessing import LabelEncoder\n",
    "leY = LabelEncoder()\n",
    "data_org['Y'] = leY.fit_transform(data_org['Y'])\n",
    "leX5 = LabelEncoder()\n",
    "data_org['X5'] = leX5.fit_transform(data_org['X5'])\n",
    "leX7 = LabelEncoder()\n",
    "data_org['X7'] = leX7.fit_transform(data_org['X7'])"
   ]
  },
  {
   "cell_type": "code",
   "execution_count": 9,
   "metadata": {},
   "outputs": [
    {
     "data": {
      "text/html": [
       "<div>\n",
       "<style scoped>\n",
       "    .dataframe tbody tr th:only-of-type {\n",
       "        vertical-align: middle;\n",
       "    }\n",
       "\n",
       "    .dataframe tbody tr th {\n",
       "        vertical-align: top;\n",
       "    }\n",
       "\n",
       "    .dataframe thead th {\n",
       "        text-align: right;\n",
       "    }\n",
       "</style>\n",
       "<table border=\"1\" class=\"dataframe\">\n",
       "  <thead>\n",
       "    <tr style=\"text-align: right;\">\n",
       "      <th></th>\n",
       "      <th>Y</th>\n",
       "      <th>X1</th>\n",
       "      <th>X2</th>\n",
       "      <th>X3</th>\n",
       "      <th>X4</th>\n",
       "      <th>X5</th>\n",
       "      <th>X6</th>\n",
       "      <th>X7</th>\n",
       "    </tr>\n",
       "  </thead>\n",
       "  <tbody>\n",
       "    <tr>\n",
       "      <th>0</th>\n",
       "      <td>1</td>\n",
       "      <td>2.0</td>\n",
       "      <td>20.20</td>\n",
       "      <td>47400</td>\n",
       "      <td>36</td>\n",
       "      <td>4</td>\n",
       "      <td>72.0</td>\n",
       "      <td>1</td>\n",
       "    </tr>\n",
       "    <tr>\n",
       "      <th>1</th>\n",
       "      <td>1</td>\n",
       "      <td>2.0</td>\n",
       "      <td>11.90</td>\n",
       "      <td>62000</td>\n",
       "      <td>24</td>\n",
       "      <td>10</td>\n",
       "      <td>48.0</td>\n",
       "      <td>1</td>\n",
       "    </tr>\n",
       "    <tr>\n",
       "      <th>2</th>\n",
       "      <td>1</td>\n",
       "      <td>8.0</td>\n",
       "      <td>29.52</td>\n",
       "      <td>60661</td>\n",
       "      <td>60</td>\n",
       "      <td>0</td>\n",
       "      <td>480.0</td>\n",
       "      <td>1</td>\n",
       "    </tr>\n",
       "    <tr>\n",
       "      <th>3</th>\n",
       "      <td>1</td>\n",
       "      <td>2.0</td>\n",
       "      <td>16.20</td>\n",
       "      <td>59677</td>\n",
       "      <td>19</td>\n",
       "      <td>1</td>\n",
       "      <td>38.0</td>\n",
       "      <td>1</td>\n",
       "    </tr>\n",
       "    <tr>\n",
       "      <th>4</th>\n",
       "      <td>1</td>\n",
       "      <td>5.0</td>\n",
       "      <td>62.10</td>\n",
       "      <td>142602</td>\n",
       "      <td>50</td>\n",
       "      <td>4</td>\n",
       "      <td>250.0</td>\n",
       "      <td>1</td>\n",
       "    </tr>\n",
       "  </tbody>\n",
       "</table>\n",
       "</div>"
      ],
      "text/plain": [
       "   Y   X1     X2      X3  X4  X5     X6  X7\n",
       "0  1  2.0  20.20   47400  36   4   72.0   1\n",
       "1  1  2.0  11.90   62000  24  10   48.0   1\n",
       "2  1  8.0  29.52   60661  60   0  480.0   1\n",
       "3  1  2.0  16.20   59677  19   1   38.0   1\n",
       "4  1  5.0  62.10  142602  50   4  250.0   1"
      ]
     },
     "execution_count": 9,
     "metadata": {},
     "output_type": "execute_result"
    }
   ],
   "source": [
    "data_org.head()"
   ]
  },
  {
   "cell_type": "code",
   "execution_count": 10,
   "metadata": {},
   "outputs": [
    {
     "data": {
      "text/plain": [
       "0    1\n",
       "1    1\n",
       "2    1\n",
       "3    1\n",
       "4    1\n",
       "Name: Y, dtype: int32"
      ]
     },
     "execution_count": 10,
     "metadata": {},
     "output_type": "execute_result"
    }
   ],
   "source": [
    "# getting the Y column\n",
    "Y = data_org['Y']\n",
    "Y.head()"
   ]
  },
  {
   "cell_type": "code",
   "execution_count": 11,
   "metadata": {},
   "outputs": [
    {
     "data": {
      "text/plain": [
       "0"
      ]
     },
     "execution_count": 11,
     "metadata": {},
     "output_type": "execute_result"
    }
   ],
   "source": [
    "Y.isnull().sum()"
   ]
  },
  {
   "cell_type": "code",
   "execution_count": 12,
   "metadata": {},
   "outputs": [
    {
     "data": {
      "text/plain": [
       "1    13000\n",
       "0    12782\n",
       "Name: Y, dtype: int64"
      ]
     },
     "execution_count": 12,
     "metadata": {},
     "output_type": "execute_result"
    }
   ],
   "source": [
    "data_org['Y'].value_counts()"
   ]
  },
  {
   "cell_type": "code",
   "execution_count": 13,
   "metadata": {},
   "outputs": [],
   "source": [
    "X_data_org = data_org.drop(['Y'], axis=1)"
   ]
  },
  {
   "cell_type": "code",
   "execution_count": 14,
   "metadata": {},
   "outputs": [],
   "source": [
    "from sklearn.model_selection import train_test_split\n",
    "X_train, X_test, y_train, y_test = train_test_split(X_data_org, Y, test_size=0.2,random_state=109) # 80% training and 20% test"
   ]
  },
  {
   "cell_type": "markdown",
   "metadata": {},
   "source": [
    "# perform MLDP descretization on data "
   ]
  },
  {
   "cell_type": "code",
   "execution_count": 15,
   "metadata": {},
   "outputs": [],
   "source": [
    "X_Disc,Y_D = data_org[['X1','X2','X3','X4','X6']].to_numpy(),Y.to_numpy()\n",
    "# X_Disc"
   ]
  },
  {
   "cell_type": "code",
   "execution_count": 16,
   "metadata": {},
   "outputs": [
    {
     "name": "stderr",
     "output_type": "stream",
     "text": [
      "c:\\Users\\makch\\STUDIES\\s3\\ADD\\Code\\MDLP.py:168: RuntimeWarning: invalid value encountered in greater\n",
      "  mask = np.logical_and((self._boundaries[:, feature_idx] > range_min), (self._boundaries[:, feature_idx] < range_max))\n",
      "c:\\Users\\makch\\STUDIES\\s3\\ADD\\Code\\MDLP.py:168: RuntimeWarning: invalid value encountered in less\n",
      "  mask = np.logical_and((self._boundaries[:, feature_idx] > range_min), (self._boundaries[:, feature_idx] < range_max))\n"
     ]
    },
    {
     "data": {
      "text/plain": [
       "<MDLP.MDLP_Discretizer at 0x27616decd90>"
      ]
     },
     "execution_count": 16,
     "metadata": {},
     "output_type": "execute_result"
    }
   ],
   "source": [
    "# import MDLP_Discretizer\n",
    "from MDLP import  MDLP_Discretizer\n",
    "\n",
    "numeric_features = np.arange(X_Disc.shape[1])\n",
    "discretizer = MDLP_Discretizer(features=numeric_features)\n",
    "discretizer.fit(X_Disc, Y_D)"
   ]
  },
  {
   "cell_type": "code",
   "execution_count": 17,
   "metadata": {},
   "outputs": [
    {
     "name": "stdout",
     "output_type": "stream",
     "text": [
      "(25782, 5)\n"
     ]
    }
   ],
   "source": [
    "X_discretized = discretizer.transform(X_Disc)\n",
    "X_discretized = pd.DataFrame(X_discretized, columns = ['X1','X2','X3','X4','X6'])\n",
    "print(X_discretized.shape)\n"
   ]
  },
  {
   "cell_type": "code",
   "execution_count": 18,
   "metadata": {},
   "outputs": [
    {
     "data": {
      "text/html": [
       "<div>\n",
       "<style scoped>\n",
       "    .dataframe tbody tr th:only-of-type {\n",
       "        vertical-align: middle;\n",
       "    }\n",
       "\n",
       "    .dataframe tbody tr th {\n",
       "        vertical-align: top;\n",
       "    }\n",
       "\n",
       "    .dataframe thead th {\n",
       "        text-align: right;\n",
       "    }\n",
       "</style>\n",
       "<table border=\"1\" class=\"dataframe\">\n",
       "  <thead>\n",
       "    <tr style=\"text-align: right;\">\n",
       "      <th></th>\n",
       "      <th>X1</th>\n",
       "      <th>X2</th>\n",
       "      <th>X3</th>\n",
       "      <th>X4</th>\n",
       "      <th>X6</th>\n",
       "    </tr>\n",
       "  </thead>\n",
       "  <tbody>\n",
       "    <tr>\n",
       "      <th>0</th>\n",
       "      <td>0.0</td>\n",
       "      <td>1.0</td>\n",
       "      <td>9.0</td>\n",
       "      <td>9.0</td>\n",
       "      <td>4.0</td>\n",
       "    </tr>\n",
       "    <tr>\n",
       "      <th>1</th>\n",
       "      <td>0.0</td>\n",
       "      <td>1.0</td>\n",
       "      <td>13.0</td>\n",
       "      <td>1.0</td>\n",
       "      <td>1.0</td>\n",
       "    </tr>\n",
       "    <tr>\n",
       "      <th>2</th>\n",
       "      <td>2.0</td>\n",
       "      <td>1.0</td>\n",
       "      <td>13.0</td>\n",
       "      <td>15.0</td>\n",
       "      <td>9.0</td>\n",
       "    </tr>\n",
       "    <tr>\n",
       "      <th>3</th>\n",
       "      <td>0.0</td>\n",
       "      <td>1.0</td>\n",
       "      <td>13.0</td>\n",
       "      <td>1.0</td>\n",
       "      <td>1.0</td>\n",
       "    </tr>\n",
       "    <tr>\n",
       "      <th>4</th>\n",
       "      <td>1.0</td>\n",
       "      <td>2.0</td>\n",
       "      <td>18.0</td>\n",
       "      <td>14.0</td>\n",
       "      <td>6.0</td>\n",
       "    </tr>\n",
       "  </tbody>\n",
       "</table>\n",
       "</div>"
      ],
      "text/plain": [
       "    X1   X2    X3    X4   X6\n",
       "0  0.0  1.0   9.0   9.0  4.0\n",
       "1  0.0  1.0  13.0   1.0  1.0\n",
       "2  2.0  1.0  13.0  15.0  9.0\n",
       "3  0.0  1.0  13.0   1.0  1.0\n",
       "4  1.0  2.0  18.0  14.0  6.0"
      ]
     },
     "execution_count": 18,
     "metadata": {},
     "output_type": "execute_result"
    }
   ],
   "source": [
    "X_discretized.head()"
   ]
  },
  {
   "cell_type": "code",
   "execution_count": 19,
   "metadata": {},
   "outputs": [],
   "source": [
    "X_discretized = pd.concat([X_discretized[['X1','X2','X3','X4']],data_org['X5'], X_discretized[['X6']], data_org['X7']], axis=1, join='inner')"
   ]
  },
  {
   "cell_type": "code",
   "execution_count": 20,
   "metadata": {},
   "outputs": [
    {
     "data": {
      "text/plain": [
       "(25782, 7)"
      ]
     },
     "execution_count": 20,
     "metadata": {},
     "output_type": "execute_result"
    }
   ],
   "source": [
    "X_discretized.shape"
   ]
  },
  {
   "cell_type": "code",
   "execution_count": 21,
   "metadata": {},
   "outputs": [],
   "source": [
    "X_train_d, X_test_d, y_train_d, y_test_d = train_test_split(X_discretized, Y, test_size=0.2,random_state=109) # 80% training and 20% test"
   ]
  },
  {
   "cell_type": "code",
   "execution_count": 22,
   "metadata": {},
   "outputs": [],
   "source": [
    "# import ExtraTreeClassifier\n",
    "from sklearn.tree import ExtraTreeClassifier\n",
    "#import svm classifier\n",
    "from sklearn.svm import SVC\n",
    "# import RidgeClassifier\n",
    "from sklearn.linear_model import RidgeClassifier\n",
    "# import LinearDiscriminantAnalysis\n",
    "from sklearn.discriminant_analysis import LinearDiscriminantAnalysis\n",
    "# import LogisticRegression classifier\n",
    "from sklearn.linear_model import LogisticRegression"
   ]
  },
  {
   "cell_type": "code",
   "execution_count": 23,
   "metadata": {},
   "outputs": [
    {
     "data": {
      "text/html": [
       "<div>\n",
       "<style scoped>\n",
       "    .dataframe tbody tr th:only-of-type {\n",
       "        vertical-align: middle;\n",
       "    }\n",
       "\n",
       "    .dataframe tbody tr th {\n",
       "        vertical-align: top;\n",
       "    }\n",
       "\n",
       "    .dataframe thead th {\n",
       "        text-align: right;\n",
       "    }\n",
       "</style>\n",
       "<table border=\"1\" class=\"dataframe\">\n",
       "  <thead>\n",
       "    <tr style=\"text-align: right;\">\n",
       "      <th></th>\n",
       "      <th>Model</th>\n",
       "      <th>Score</th>\n",
       "    </tr>\n",
       "  </thead>\n",
       "  <tbody>\n",
       "    <tr>\n",
       "      <th>0</th>\n",
       "      <td>ExtraTreeClassifier</td>\n",
       "      <td>0.779911</td>\n",
       "    </tr>\n",
       "    <tr>\n",
       "      <th>1</th>\n",
       "      <td>SVC</td>\n",
       "      <td>0.609463</td>\n",
       "    </tr>\n",
       "    <tr>\n",
       "      <th>2</th>\n",
       "      <td>RidgeClassifier</td>\n",
       "      <td>0.751212</td>\n",
       "    </tr>\n",
       "    <tr>\n",
       "      <th>3</th>\n",
       "      <td>LinearDiscriminantAnalysis</td>\n",
       "      <td>0.751212</td>\n",
       "    </tr>\n",
       "    <tr>\n",
       "      <th>4</th>\n",
       "      <td>LogisticRegression</td>\n",
       "      <td>0.696529</td>\n",
       "    </tr>\n",
       "  </tbody>\n",
       "</table>\n",
       "</div>"
      ],
      "text/plain": [
       "                        Model     Score\n",
       "0         ExtraTreeClassifier  0.779911\n",
       "1                         SVC  0.609463\n",
       "2             RidgeClassifier  0.751212\n",
       "3  LinearDiscriminantAnalysis  0.751212\n",
       "4          LogisticRegression  0.696529"
      ]
     },
     "execution_count": 23,
     "metadata": {},
     "output_type": "execute_result"
    }
   ],
   "source": [
    "# instantiate the model\n",
    "\n",
    "etc = ExtraTreeClassifier()\n",
    "svc = SVC()\n",
    "rc = RidgeClassifier()\n",
    "lda = LinearDiscriminantAnalysis()\n",
    "lr = LogisticRegression()\n",
    "\n",
    "# fit the model\n",
    "etc.fit(X_train, y_train)\n",
    "svc.fit(X_train, y_train)\n",
    "rc.fit(X_train, y_train)\n",
    "lda.fit(X_train, y_train)\n",
    "lr.fit(X_train, y_train)\n",
    "\n",
    "# predict the test set\n",
    "y_pred_etc = etc.predict(X_test)\n",
    "y_pred_svc = svc.predict(X_test)\n",
    "y_pred_rc = rc.predict(X_test)\n",
    "y_pred_lda = lda.predict(X_test)\n",
    "y_pred_lr = lr.predict(X_test)\n",
    "\n",
    "# models metrics on a dataframe\n",
    "models = pd.DataFrame({\n",
    "    'Model': ['ExtraTreeClassifier', 'SVC', 'RidgeClassifier', 'LinearDiscriminantAnalysis', 'LogisticRegression'],\n",
    "    'Score': [metrics.accuracy_score(y_test, y_pred_etc), metrics.accuracy_score(y_test, y_pred_svc), metrics.accuracy_score(y_test, y_pred_rc), metrics.accuracy_score(y_test, y_pred_lda), metrics.accuracy_score(y_test, y_pred_lr)]})\n",
    "models.sort_values(by='Score', ascending=False)\n",
    "\n",
    "models\n"
   ]
  },
  {
   "cell_type": "code",
   "execution_count": 24,
   "metadata": {},
   "outputs": [
    {
     "data": {
      "text/html": [
       "<div>\n",
       "<style scoped>\n",
       "    .dataframe tbody tr th:only-of-type {\n",
       "        vertical-align: middle;\n",
       "    }\n",
       "\n",
       "    .dataframe tbody tr th {\n",
       "        vertical-align: top;\n",
       "    }\n",
       "\n",
       "    .dataframe thead th {\n",
       "        text-align: right;\n",
       "    }\n",
       "</style>\n",
       "<table border=\"1\" class=\"dataframe\">\n",
       "  <thead>\n",
       "    <tr style=\"text-align: right;\">\n",
       "      <th></th>\n",
       "      <th>Model</th>\n",
       "      <th>Score_Discretized</th>\n",
       "    </tr>\n",
       "  </thead>\n",
       "  <tbody>\n",
       "    <tr>\n",
       "      <th>0</th>\n",
       "      <td>ExtraTreeClassifier</td>\n",
       "      <td>0.780880</td>\n",
       "    </tr>\n",
       "    <tr>\n",
       "      <th>1</th>\n",
       "      <td>SVC</td>\n",
       "      <td>0.774481</td>\n",
       "    </tr>\n",
       "    <tr>\n",
       "      <th>2</th>\n",
       "      <td>RidgeClassifier</td>\n",
       "      <td>0.756641</td>\n",
       "    </tr>\n",
       "    <tr>\n",
       "      <th>3</th>\n",
       "      <td>LinearDiscriminantAnalysis</td>\n",
       "      <td>0.756641</td>\n",
       "    </tr>\n",
       "    <tr>\n",
       "      <th>4</th>\n",
       "      <td>LogisticRegression</td>\n",
       "      <td>0.751406</td>\n",
       "    </tr>\n",
       "  </tbody>\n",
       "</table>\n",
       "</div>"
      ],
      "text/plain": [
       "                        Model  Score_Discretized\n",
       "0         ExtraTreeClassifier           0.780880\n",
       "1                         SVC           0.774481\n",
       "2             RidgeClassifier           0.756641\n",
       "3  LinearDiscriminantAnalysis           0.756641\n",
       "4          LogisticRegression           0.751406"
      ]
     },
     "execution_count": 24,
     "metadata": {},
     "output_type": "execute_result"
    }
   ],
   "source": [
    "# instantiate the model\n",
    "\n",
    "etc = ExtraTreeClassifier()\n",
    "svc = SVC()\n",
    "rc = RidgeClassifier()\n",
    "lda = LinearDiscriminantAnalysis()\n",
    "lr = LogisticRegression()\n",
    "\n",
    "# fit the models on the discretized data\n",
    "etc.fit(X_train_d, y_train_d)\n",
    "svc.fit(X_train_d, y_train_d)\n",
    "rc.fit(X_train_d, y_train_d)\n",
    "lda.fit(X_train_d, y_train_d)\n",
    "lr.fit(X_train_d, y_train_d)\n",
    "\n",
    "# predict the test set\n",
    "y_pred_etc = etc.predict(X_test_d)\n",
    "y_pred_svc = svc.predict(X_test_d)\n",
    "y_pred_rc = rc.predict(X_test_d)\n",
    "y_pred_lda = lda.predict(X_test_d)\n",
    "y_pred_lr = lr.predict(X_test_d)\n",
    "\n",
    "# models metrics on a dataframe\n",
    "models2 = pd.DataFrame({\n",
    "    'Model': ['ExtraTreeClassifier', 'SVC', 'RidgeClassifier', 'LinearDiscriminantAnalysis', 'LogisticRegression'],\n",
    "    'Score_Discretized': [metrics.accuracy_score(y_test_d, y_pred_etc), metrics.accuracy_score(y_test_d, y_pred_svc), metrics.accuracy_score(y_test_d, y_pred_rc), metrics.accuracy_score(y_test_d, y_pred_lda), metrics.accuracy_score(y_test_d, y_pred_lr)]})\n",
    "models2.sort_values(by='Score_Discretized', ascending=False)\n",
    "\n",
    "models2"
   ]
  },
  {
   "cell_type": "code",
   "execution_count": 26,
   "metadata": {},
   "outputs": [
    {
     "data": {
      "text/html": [
       "<div>\n",
       "<style scoped>\n",
       "    .dataframe tbody tr th:only-of-type {\n",
       "        vertical-align: middle;\n",
       "    }\n",
       "\n",
       "    .dataframe tbody tr th {\n",
       "        vertical-align: top;\n",
       "    }\n",
       "\n",
       "    .dataframe thead th {\n",
       "        text-align: right;\n",
       "    }\n",
       "</style>\n",
       "<table border=\"1\" class=\"dataframe\">\n",
       "  <thead>\n",
       "    <tr style=\"text-align: right;\">\n",
       "      <th></th>\n",
       "      <th>Model</th>\n",
       "      <th>Score</th>\n",
       "      <th>Score_Discretized</th>\n",
       "    </tr>\n",
       "  </thead>\n",
       "  <tbody>\n",
       "    <tr>\n",
       "      <th>0</th>\n",
       "      <td>ExtraTreeClassifier</td>\n",
       "      <td>0.779911</td>\n",
       "      <td>0.780880</td>\n",
       "    </tr>\n",
       "    <tr>\n",
       "      <th>1</th>\n",
       "      <td>SVC</td>\n",
       "      <td>0.609463</td>\n",
       "      <td>0.774481</td>\n",
       "    </tr>\n",
       "    <tr>\n",
       "      <th>2</th>\n",
       "      <td>RidgeClassifier</td>\n",
       "      <td>0.751212</td>\n",
       "      <td>0.756641</td>\n",
       "    </tr>\n",
       "    <tr>\n",
       "      <th>3</th>\n",
       "      <td>LinearDiscriminantAnalysis</td>\n",
       "      <td>0.751212</td>\n",
       "      <td>0.756641</td>\n",
       "    </tr>\n",
       "    <tr>\n",
       "      <th>4</th>\n",
       "      <td>LogisticRegression</td>\n",
       "      <td>0.696529</td>\n",
       "      <td>0.751406</td>\n",
       "    </tr>\n",
       "  </tbody>\n",
       "</table>\n",
       "</div>"
      ],
      "text/plain": [
       "                        Model     Score  Score_Discretized\n",
       "0         ExtraTreeClassifier  0.779911           0.780880\n",
       "1                         SVC  0.609463           0.774481\n",
       "2             RidgeClassifier  0.751212           0.756641\n",
       "3  LinearDiscriminantAnalysis  0.751212           0.756641\n",
       "4          LogisticRegression  0.696529           0.751406"
      ]
     },
     "execution_count": 26,
     "metadata": {},
     "output_type": "execute_result"
    }
   ],
   "source": [
    "# merge the two dataframes\n",
    "models = pd.merge(models, models2, on='Model')\n",
    "models"
   ]
  },
  {
   "cell_type": "code",
   "execution_count": 27,
   "metadata": {},
   "outputs": [],
   "source": [
    "# # Grid search for ExtraTreeClassifier\n",
    "# from sklearn.model_selection import GridSearchCV\n",
    "\n",
    "# etc_params = { 'max_depth': [None,7, 8, 9, 10],\n",
    "#                 'critierion': ['gini', 'entropy'],\n",
    "#                 'min_samples_split': [2, 3, 4],\n",
    "#                 'max_leaf_nodes': [None,2, 3, 4],}\n",
    "\n",
    "# # Grid using accuracy as scoring\n",
    "# etc_grid = GridSearchCV(ExtraTreeClassifier(), etc_params, cv=5, scoring='accuracy',verbose=3 , n_jobs=-1)\n",
    "\n",
    "# # fit the grid\n",
    "# etc_grid.fit(X_train, y_train)\n",
    "\n",
    "\n",
    "# # best parameters\n",
    "# print(etc_grid.best_params_)\n",
    "\n",
    "# # best score\n",
    "# print(etc_grid.best_score_)"
   ]
  },
  {
   "cell_type": "code",
   "execution_count": 28,
   "metadata": {},
   "outputs": [],
   "source": [
    "# # Grid search for Logistic regression\n",
    "\n",
    "# logistic_params = {\n",
    "#     'C': [0.01, 0.1, 1, 10],\n",
    "#     'penalty': ['l1', 'l2'],\n",
    "#     'solver': ['liblinear', 'saga'],\n",
    "#     'max_iter': [100, 500, 2500],\n",
    "# }\n",
    "\n",
    "# # Grid using accuracy as scoring\n",
    "# logistic_grid = GridSearchCV(LogisticRegression(), logistic_params, cv=5, scoring='accuracy',verbose=3 , n_jobs=-1)\n",
    "\n",
    "# # fit the grid\n",
    "# logistic_grid.fit(X_train_d, y_train_d)\n",
    "\n",
    "# # best parameters\n",
    "# print(logistic_grid.best_params_)\n",
    "# # best score\n",
    "# print(logistic_grid.best_score_)\n",
    "\n"
   ]
  },
  {
   "cell_type": "code",
   "execution_count": 30,
   "metadata": {},
   "outputs": [
    {
     "name": "stdout",
     "output_type": "stream",
     "text": [
      "Fitting 5 folds for each of 27 candidates, totalling 135 fits\n",
      "{'alpha': 10, 'max_iter': None, 'solver': 'auto'}\n",
      "0.7431757575757576\n"
     ]
    }
   ],
   "source": [
    "# Grid search for RidgeClassifier\n",
    "from sklearn.model_selection import GridSearchCV\n",
    "ridge_params = {\n",
    "    'alpha': [0.1, 1, 10],\n",
    "    'solver': ['auto', 'svd', 'cholesky'],\n",
    "    'max_iter': [None,100, 200],\n",
    "}\n",
    "\n",
    "# Grid using accuracy as scoring\n",
    "ridge_grid = GridSearchCV(RidgeClassifier(), ridge_params, cv=5, scoring='accuracy',verbose=3 , n_jobs=-1)\n",
    "\n",
    "# fit the grid\n",
    "ridge_grid.fit(X_train_d, y_train_d)\n",
    "\n",
    "# best parameters\n",
    "print(ridge_grid.best_params_)\n",
    "# best score\n",
    "print(ridge_grid.best_score_)"
   ]
  }
 ],
 "metadata": {
  "kernelspec": {
   "display_name": "Python 3",
   "language": "python",
   "name": "python3"
  },
  "language_info": {
   "codemirror_mode": {
    "name": "ipython",
    "version": 3
   },
   "file_extension": ".py",
   "mimetype": "text/x-python",
   "name": "python",
   "nbconvert_exporter": "python",
   "pygments_lexer": "ipython3",
   "version": "3.8.10"
  },
  "vscode": {
   "interpreter": {
    "hash": "96f786b0b969ce9dd83e03f57258e7a9a05f55dd8c5f36e6eecbeebc399786bd"
   }
  }
 },
 "nbformat": 4,
 "nbformat_minor": 4
}
